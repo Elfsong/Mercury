{
 "cells": [
  {
   "cell_type": "code",
   "execution_count": null,
   "metadata": {},
   "outputs": [],
   "source": [
    "import json\n",
    "import pandas as pd\n",
    "from tqdm import tqdm\n",
    "import src.sandbox as sandbox\n",
    "from datasets import load_dataset\n",
    "from datasets import Dataset, DatasetDict\n",
    "from collections import defaultdict, Counter"
   ]
  },
  {
   "cell_type": "code",
   "execution_count": null,
   "metadata": {},
   "outputs": [],
   "source": [
    "# If the dataset is gated/private, make sure you have run huggingface-cli login\n",
    "ds = load_dataset(\"Elfsong/Caduceus_v7\")"
   ]
  },
  {
   "cell_type": "code",
   "execution_count": null,
   "metadata": {},
   "outputs": [],
   "source": [
    "def test_1(index):\n",
    "    instance = eval_list[index]\n",
    "    sb = sandbox.Sandbox()\n",
    "    results = list()\n",
    "    \n",
    "    for index, solution in enumerate(instance['solutions']):        \n",
    "        sample = {\n",
    "            \"solution\": solution['solution'],\n",
    "            \"convert_offline\": instance['convert_offline'],\n",
    "            \"evaluate_offline\": instance['evaluate_offline'],\n",
    "            \"entry_point\": instance['entry_point'],\n",
    "            \"test_cases\": json.loads(instance['test_cases']),\n",
    "            \"solution_index\": index,\n",
    "            \"timeout\": 30\n",
    "        }\n",
    "    \n",
    "        results += [sb.run_sample(sample)]\n",
    "\n",
    "    return results"
   ]
  },
  {
   "cell_type": "code",
   "execution_count": null,
   "metadata": {},
   "outputs": [],
   "source": [
    "from collections import defaultdict, Counter\n",
    "\n",
    "failed_sample = defaultdict(list)\n",
    "\n",
    "for s_index in tqdm(range(256)):\n",
    "    results = test_1(s_index)\n",
    "    for index, result in enumerate(results):\n",
    "        if result['result'] != 'passed':\n",
    "            print(s_index, result)\n",
    "            failed_sample[s_index] += [result]"
   ]
  },
  {
   "cell_type": "code",
   "execution_count": null,
   "metadata": {},
   "outputs": [],
   "source": [
    "counter = Counter()"
   ]
  },
  {
   "cell_type": "code",
   "execution_count": null,
   "metadata": {},
   "outputs": [],
   "source": [
    "for instance in ds['eval']:\n",
    "    l = len(instance['solutions'])\n",
    "    counter[l] += 1"
   ]
  },
  {
   "cell_type": "code",
   "execution_count": null,
   "metadata": {},
   "outputs": [],
   "source": [
    "n_list, c_list = list(), list()\n",
    "t_list = list()\n",
    "\n",
    "for c in counter:\n",
    "    n_list += [c]\n",
    "    c_list += [counter[c]]\n",
    "    t_list += [c] * counter[c]"
   ]
  },
  {
   "cell_type": "code",
   "execution_count": null,
   "metadata": {},
   "outputs": [],
   "source": [
    "len(t_list)"
   ]
  },
  {
   "cell_type": "code",
   "execution_count": null,
   "metadata": {},
   "outputs": [],
   "source": [
    "data = {'count': c_list, 'num_of_solution': n_list}"
   ]
  },
  {
   "cell_type": "code",
   "execution_count": null,
   "metadata": {},
   "outputs": [],
   "source": [
    "df = pd.DataFrame.from_dict(data)"
   ]
  },
  {
   "cell_type": "code",
   "execution_count": null,
   "metadata": {},
   "outputs": [],
   "source": [
    "counter = Counter()\n",
    "for instance in ds['eval']:\n",
    "    difficulty = instance['difficulty']\n",
    "    counter[difficulty] += 1\n",
    "print(counter)"
   ]
  },
  {
   "cell_type": "code",
   "execution_count": null,
   "metadata": {},
   "outputs": [],
   "source": [
    "import seaborn as sns\n",
    "from matplotlib import pyplot as plt"
   ]
  },
  {
   "cell_type": "code",
   "execution_count": null,
   "metadata": {},
   "outputs": [],
   "source": [
    "plt.rcParams[\"figure.figsize\"] = [7.50, 3.50]\n",
    "plt.rcParams[\"figure.autolayout\"] = True"
   ]
  },
  {
   "cell_type": "code",
   "execution_count": null,
   "metadata": {},
   "outputs": [],
   "source": [
    "plt = sns.barplot(data=df, x='num_of_solution', y='count')\n",
    "plt.set(xlabel=None)"
   ]
  },
  {
   "cell_type": "code",
   "execution_count": null,
   "metadata": {},
   "outputs": [],
   "source": [
    "train_ds = Dataset.from_list(train_list)\n",
    "eval_ds = Dataset.from_list(eval_list)\n",
    "final_ds = DatasetDict({\"train\":train_ds, \"eval\":eval_ds})"
   ]
  },
  {
   "cell_type": "code",
   "execution_count": null,
   "metadata": {},
   "outputs": [],
   "source": [
    "final_ds.push_to_hub('Elfsong/Caduceus_v7', private=True)"
   ]
  },
  {
   "cell_type": "code",
   "execution_count": null,
   "metadata": {},
   "outputs": [],
   "source": [
    "import statistics"
   ]
  },
  {
   "cell_type": "code",
   "execution_count": null,
   "metadata": {},
   "outputs": [],
   "source": [
    "statistics.mean(t_list)"
   ]
  },
  {
   "cell_type": "code",
   "execution_count": null,
   "metadata": {},
   "outputs": [],
   "source": [
    "statistics.median(t_list)"
   ]
  },
  {
   "cell_type": "code",
   "execution_count": null,
   "metadata": {},
   "outputs": [],
   "source": [
    "statistics.mode(t_list)"
   ]
  },
  {
   "cell_type": "code",
   "execution_count": null,
   "metadata": {},
   "outputs": [],
   "source": [
    "min(t_list)"
   ]
  },
  {
   "cell_type": "code",
   "execution_count": null,
   "metadata": {},
   "outputs": [],
   "source": [
    "max(t_list)"
   ]
  },
  {
   "cell_type": "code",
   "execution_count": null,
   "metadata": {},
   "outputs": [],
   "source": [
    "print('        if not matrix: return []\\n        R, C = len(matrix), len(matrix[0])\\n        visited = [[False] * C for _ in matrix]\\n        dr = [0, 1, 0, -1]\\n        dc = [1, 0, -1, 0]\\n        ans = []\\n        r = c = di = 0\\n        for _ in range(R * C):\\n            ans.append(matrix[r][c])\\n            visited[r][c] = True\\n            cr, cc = r + dr[di], c + dc[di]\\n            if 0 <= cr < R and 0 <= cc < C and not visited[cr][cc]:\\n                r, c = cr, cc\\n            else:\\n                di = (di + 1) % 4\\n                r, c = r + dr[di], c + dc[di]\\n        return ans')"
   ]
  },
  {
   "cell_type": "code",
   "execution_count": null,
   "metadata": {},
   "outputs": [],
   "source": [
    "from random import sample \n",
    "  \n",
    "# Prints list of random items of given length \n",
    "list1 = [1, 2]  \n",
    "  \n",
    "print(sample(list1,3)) "
   ]
  },
  {
   "cell_type": "code",
   "execution_count": null,
   "metadata": {},
   "outputs": [],
   "source": [
    "a = [2,3,4,5,6,3,2]"
   ]
  },
  {
   "cell_type": "code",
   "execution_count": null,
   "metadata": {},
   "outputs": [],
   "source": [
    "a = sorted(a)"
   ]
  },
  {
   "cell_type": "code",
   "execution_count": null,
   "metadata": {},
   "outputs": [],
   "source": [
    "a"
   ]
  },
  {
   "cell_type": "code",
   "execution_count": null,
   "metadata": {},
   "outputs": [],
   "source": [
    "import json"
   ]
  },
  {
   "cell_type": "code",
   "execution_count": null,
   "metadata": {},
   "outputs": [],
   "source": [
    "f = open('./data/mbpp/sanitized-mbpp.json', 'r')"
   ]
  },
  {
   "cell_type": "code",
   "execution_count": null,
   "metadata": {},
   "outputs": [],
   "source": [
    "data = json.load(f)"
   ]
  },
  {
   "cell_type": "code",
   "execution_count": null,
   "metadata": {},
   "outputs": [],
   "source": [
    "c = 0\n",
    "for d in data:\n",
    "    task_id = d['task_id']\n",
    "    if task_id >= 11 and task_id <= 510:\n",
    "        c += 1"
   ]
  },
  {
   "cell_type": "code",
   "execution_count": null,
   "metadata": {},
   "outputs": [],
   "source": [
    "import requests"
   ]
  },
  {
   "cell_type": "code",
   "execution_count": null,
   "metadata": {},
   "outputs": [],
   "source": [
    "def get_questions():\n",
    "    url = \"https://leetcode.com/api/problems/algorithms/\"\n",
    "    payload = {}\n",
    "    headers = {\n",
    "        'authority': 'leetcode.cn',\n",
    "        'accept': '*/*',\n",
    "        'accept-language': 'en-GB,en-US;q=0.9,en;q=0.8,zh-CN;q=0.7,zh-HK;q=0.6,zh-TW;q=0.5,zh;q=0.4',\n",
    "        'content-type': 'application/json',\n",
    "        'cookie': '_gid=GA1.2.1098388302.1701430581; gr_user_id=7410146c-e5bc-4739-a7c8-40cb0e580219; a2873925c34ecbd2_gr_session_id=5c028fe5-e819-4177-bc61-685d662a8ea3; a2873925c34ecbd2_gr_session_id_sent_vst=5c028fe5-e819-4177-bc61-685d662a8ea3; Hm_lvt_f0faad39bcf8471e3ab3ef70125152c3=1701430581; _bl_uid=Rtlq0pdemvUjdwuU0mna4wefs90p; csrftoken=AZRVgBFAYbZ8j6ud6Er7hfSUYBoaMMiZyImW25xy9HYJ7Kluvhok6RKzjAofXb3H; LEETCODE_SESSION=eyJ0eXAiOiJKV1QiLCJhbGciOiJIUzI1NiJ9.eyJfYXV0aF91c2VyX2lkIjoiMTgwMDQyMyIsIl9hdXRoX3VzZXJfYmFja2VuZCI6ImRqYW5nby5jb250cmliLmF1dGguYmFja2VuZHMuTW9kZWxCYWNrZW5kIiwiX2F1dGhfdXNlcl9oYXNoIjoiYjg1YTc3ZmYxMDgxNTAwMzg3NzY1YzE3ZGQ0M2I5YTEyYTNhOWYxNWI4YmRhNDVjNjc1ZjFiYmExNGU1YzFmNyIsImlkIjoxODAwNDIzLCJlbWFpbCI6ImR1bWluZ3poZUAxMjYuY29tIiwidXNlcm5hbWUiOiJlbGZzb25nLXYiLCJ1c2VyX3NsdWciOiJlbGZzb25nLXYiLCJhdmF0YXIiOiJodHRwczovL2Fzc2V0cy5sZWV0Y29kZS5jbi9hbGl5dW4tbGMtdXBsb2FkL3VzZXJzL2VsZnNvbmctdi9hdmF0YXJfMTYwMDU0MTMyNy5wbmciLCJwaG9uZV92ZXJpZmllZCI6dHJ1ZSwiX3RpbWVzdGFtcCI6MTcwMTQzMDYzNy4yMjI4ODYsImV4cGlyZWRfdGltZV8iOjE3MDM5NjI4MDAsInZlcnNpb25fa2V5XyI6Mn0.xj1NZG6DUHjo12TmwApzDnzbTIS33WSfKWBAy_UkCJg; a2873925c34ecbd2_gr_last_sent_sid_with_cs1=5c028fe5-e819-4177-bc61-685d662a8ea3; a2873925c34ecbd2_gr_last_sent_cs1=elfsong-v; _ga=GA1.1.695723023.1701430580; Hm_lpvt_f0faad39bcf8471e3ab3ef70125152c3=1701430639; a2873925c34ecbd2_gr_cs1=elfsong-v; _ga_PDVPZYN3CW=GS1.1.1701430580.1.1.1701431322.52.0.0; LEETCODE_SESSION=eyJ0eXAiOiJKV1QiLCJhbGciOiJIUzI1NiJ9.e30.KpufdHIo8CeGduwC5DCQoba8bmWCjJ9mUTYQ4npFdlk; csrftoken=AZRVgBFAYbZ8j6ud6Er7hfSUYBoaMMiZyImW25xy9HYJ7Kluvhok6RKzjAofXb3H',\n",
    "        'referer': 'https://leetcode.cn/problems/two-sum/submissions/486127358/',\n",
    "        'sec-ch-ua': '\"Google Chrome\";v=\"119\", \"Chromium\";v=\"119\", \"Not?A_Brand\";v=\"24\"',\n",
    "        'sec-ch-ua-mobile': '?0',\n",
    "        'sec-ch-ua-platform': '\"macOS\"',\n",
    "        'sec-fetch-dest': 'empty',\n",
    "        'sec-fetch-mode': 'cors',\n",
    "        'sec-fetch-site': 'same-origin',\n",
    "        'user-agent': 'Mozilla/5.0 (Macintosh; Intel Mac OS X 10_15_7) AppleWebKit/537.36 (KHTML, like Gecko) Chrome/119.0.0.0 Safari/537.36',\n",
    "        'x-csrftoken': 'AZRVgBFAYbZ8j6ud6Er7hfSUYBoaMMiZyImW25xy9HYJ7Kluvhok6RKzjAofXb3H'\n",
    "    }\n",
    "\n",
    "    response = requests.request(\"GET\", url, headers=headers, data=payload)\n",
    "    questions = response.json()\n",
    "    question_dict= dict()\n",
    "\n",
    "    for question in questions[\"stat_status_pairs\"]:\n",
    "        # if not question[\"paid_only\"]:\n",
    "        slug_name = question[\"stat\"][\"question__title_slug\"]\n",
    "        paid_only = question[\"paid_only\"]\n",
    "        question_dict[slug_name] = paid_only\n",
    "        \n",
    "    return question_dict"
   ]
  },
  {
   "cell_type": "code",
   "execution_count": null,
   "metadata": {},
   "outputs": [],
   "source": [
    "train_list = ds['train'].to_list()\n",
    "eval_list = ds['eval'].to_list()\n",
    "all_questions = get_questions()"
   ]
  },
  {
   "cell_type": "code",
   "execution_count": null,
   "metadata": {},
   "outputs": [],
   "source": [
    "paid_index = list()\n",
    "for index, instance in enumerate(train_list):\n",
    "    slug_name = instance['slug_name']\n",
    "    if all_questions[slug_name]:\n",
    "        paid_index += [index]"
   ]
  },
  {
   "cell_type": "code",
   "execution_count": null,
   "metadata": {},
   "outputs": [],
   "source": [
    "for index in paid_index[::-1]:\n",
    "    del train_list[index]"
   ]
  },
  {
   "cell_type": "code",
   "execution_count": null,
   "metadata": {},
   "outputs": [],
   "source": [
    "paid_index = list()\n",
    "for index, instance in enumerate(eval_list):\n",
    "    slug_name = instance['slug_name']\n",
    "    if all_questions[slug_name]:\n",
    "        paid_index += [index]"
   ]
  },
  {
   "cell_type": "code",
   "execution_count": null,
   "metadata": {},
   "outputs": [],
   "source": [
    "for index in paid_index[::-1]:\n",
    "    del eval_list[index]"
   ]
  },
  {
   "cell_type": "code",
   "execution_count": null,
   "metadata": {},
   "outputs": [],
   "source": [
    "len(train_list)"
   ]
  },
  {
   "cell_type": "code",
   "execution_count": null,
   "metadata": {},
   "outputs": [],
   "source": [
    "len(eval_list)"
   ]
  },
  {
   "cell_type": "code",
   "execution_count": null,
   "metadata": {},
   "outputs": [],
   "source": [
    "train_ds = Dataset.from_list(train_list)\n",
    "eval_ds = Dataset.from_list(eval_list)\n",
    "final_ds = DatasetDict({\"train\":train_ds, \"eval\":eval_ds})"
   ]
  },
  {
   "cell_type": "code",
   "execution_count": null,
   "metadata": {},
   "outputs": [],
   "source": [
    "final_ds.push_to_hub('Elfsong/Caduceus_v8', private=True)"
   ]
  },
  {
   "cell_type": "code",
   "execution_count": null,
   "metadata": {},
   "outputs": [],
   "source": [
    "ds = load_dataset(\"Elfsong/Caduceus_v8\")"
   ]
  },
  {
   "cell_type": "code",
   "execution_count": null,
   "metadata": {},
   "outputs": [],
   "source": [
    "ds"
   ]
  },
  {
   "cell_type": "code",
   "execution_count": null,
   "metadata": {},
   "outputs": [],
   "source": [
    "1633 + 256"
   ]
  },
  {
   "cell_type": "code",
   "execution_count": null,
   "metadata": {},
   "outputs": [],
   "source": [
    "import pandas as pd\n",
    "import matplotlib.pyplot as plt\n",
    "\n",
    "df = pd.DataFrame({\n",
    "    'Difficulty': ['Easy', 'Medium', 'Hard'],\n",
    "    'Train': [446, 968, 219],\n",
    "    'Eval': [88, 81, 87]\n",
    "})\n",
    "\n",
    "# Create a pie chart for Train\n",
    "plt.pie(df['Train'], labels=df['Difficulty'], autopct='%1.1f%%', startangle=90, pctdistance=0.85, radius=1)\n",
    "\n",
    "# Create a pie chart for Eval inside the previous one\n",
    "plt.pie(df['Eval'], labels=df['Difficulty'], autopct='%1.1f%%', startangle=90, pctdistance=0.85, radius=0.75)\n",
    "\n",
    "# Draw a white circle at the center\n",
    "centre_circle = plt.Circle((0, 0), 0.50, fc='white')\n",
    "fig = plt.gcf()\n",
    "\n",
    "# Equal aspect ratio ensures that pie is drawn as a circle\n",
    "fig.gca().add_artist(centre_circle)\n",
    "plt.tight_layout()\n",
    "plt.show()"
   ]
  },
  {
   "cell_type": "code",
   "execution_count": null,
   "metadata": {},
   "outputs": [],
   "source": [
    "import json\n",
    "from datasets import load_dataset\n",
    "from collections import defaultdict, Counter"
   ]
  },
  {
   "cell_type": "code",
   "execution_count": null,
   "metadata": {},
   "outputs": [],
   "source": [
    "ds = load_dataset(\"Elfsong/Caduceus_v8\")"
   ]
  },
  {
   "cell_type": "code",
   "execution_count": null,
   "metadata": {},
   "outputs": [],
   "source": [
    "slug_name_dict = dict()\n",
    "for instance in ds['eval']:\n",
    "    slug_name = instance['slug_name']\n",
    "    difficulty = instance['difficulty']\n",
    "    slug_name_dict[slug_name] = difficulty"
   ]
  },
  {
   "cell_type": "code",
   "execution_count": null,
   "metadata": {},
   "outputs": [],
   "source": [
    "with open('./data/deepseek-ai/deepseek-coder-6.7b-instruct_eval.json') as data_f:\n",
    "    data = json.load(data_f)"
   ]
  },
  {
   "cell_type": "code",
   "execution_count": null,
   "metadata": {},
   "outputs": [],
   "source": [
    "total_a, sum_a = 0, 0\n",
    "total_e, sum_e = 0, 0\n",
    "total_m, sum_m = 0, 0\n",
    "total_h, sum_h = 0, 0\n",
    "\n",
    "for slug_name in data:\n",
    "    results = data[slug_name]\n",
    "    beyonds = [result['beyond_p'] for result in results]\n",
    "    beyond = max(beyonds[:1])\n",
    "    \n",
    "    total_a += 1\n",
    "    sum_a += beyond\n",
    "    \n",
    "    if slug_name_dict[slug_name] == 'Easy':\n",
    "        total_e += 1\n",
    "        sum_e += beyond\n",
    "    elif slug_name_dict[slug_name] == 'Medium':\n",
    "        total_m += 1\n",
    "        sum_m += beyond\n",
    "    elif slug_name_dict[slug_name] == 'Hard':\n",
    "        total_h += 1\n",
    "        sum_h += beyond\n",
    "        \n",
    "    \n",
    "final_beyond_a = sum_a / total_a * 100\n",
    "print(final_beyond_a)\n",
    "\n",
    "final_beyond_e = sum_e / total_e * 100\n",
    "print(final_beyond_e)\n",
    "\n",
    "final_beyond_m = sum_m / total_m * 100\n",
    "print(final_beyond_m)\n",
    "\n",
    "final_beyond_h = sum_h / total_h * 100\n",
    "print(final_beyond_h)"
   ]
  },
  {
   "cell_type": "code",
   "execution_count": null,
   "metadata": {},
   "outputs": [],
   "source": [
    "with open('./data/codellama/CodeLlama-7b-Instruct-hf_eval_new.json') as data_f:\n",
    "    data = json.load(data_f)\n",
    "    \n",
    "\n",
    "for d in ['Easy', 'Medium', 'Hard']:\n",
    "    status = defaultdict(int)\n",
    "    for slug_name in data:\n",
    "        if slug_name_dict[slug_name] == d:\n",
    "            result = data[slug_name][0]['result']['result']\n",
    "            status[result] += 1\n",
    "    print(d)\n",
    "    print(status)"
   ]
  },
  {
   "cell_type": "code",
   "execution_count": null,
   "metadata": {},
   "outputs": [],
   "source": [
    "53 + 39 + 9"
   ]
  },
  {
   "cell_type": "code",
   "execution_count": null,
   "metadata": {},
   "outputs": [],
   "source": [
    "from datasets import load_dataset\n",
    "\n",
    "dataset = load_dataset(\"openai_humaneval\")"
   ]
  },
  {
   "cell_type": "code",
   "execution_count": null,
   "metadata": {},
   "outputs": [],
   "source": [
    "cases_sum = 0\n",
    "for data in dataset['test']:\n",
    "    test = data['test']\n",
    "    cases = test.count('assert')\n",
    "    cases_sum += cases"
   ]
  },
  {
   "cell_type": "code",
   "execution_count": null,
   "metadata": {},
   "outputs": [],
   "source": [
    "cases_sum / 164"
   ]
  },
  {
   "cell_type": "code",
   "execution_count": null,
   "metadata": {},
   "outputs": [],
   "source": [
    "from datasets import load_dataset\n",
    "\n",
    "dataset_sanitized = load_dataset(\"mbpp\", \"sanitized\")"
   ]
  },
  {
   "cell_type": "code",
   "execution_count": null,
   "metadata": {},
   "outputs": [],
   "source": [
    "s = 0\n",
    "for data in dataset_sanitized['test']:\n",
    "    s += len(data['test_list'])\n",
    "    \n",
    "print(s/257)"
   ]
  },
  {
   "cell_type": "code",
   "execution_count": null,
   "metadata": {},
   "outputs": [],
   "source": [
    "from datasets import load_dataset\n",
    "import json\n",
    "\n",
    "dataset = load_dataset(\"codeparrot/apps\")"
   ]
  },
  {
   "cell_type": "code",
   "execution_count": null,
   "metadata": {},
   "outputs": [],
   "source": [
    "s = 0\n",
    "v = 0\n",
    "for data in dataset['test']:\n",
    "    # if data['solutions']:\n",
    "    #     s += len(json.loads(data['solutions']))\n",
    "    if data['input_output']:\n",
    "        input_output = json.loads(data['input_output'])"
   ]
  },
  {
   "cell_type": "code",
   "execution_count": null,
   "metadata": {},
   "outputs": [],
   "source": [
    "s / 5000"
   ]
  },
  {
   "cell_type": "code",
   "execution_count": null,
   "metadata": {},
   "outputs": [],
   "source": [
    "import os\n",
    "os.environ[\"OPENAI_API_KEY\"] = 'YOUR_OPENAI_KEY'"
   ]
  },
  {
   "cell_type": "code",
   "execution_count": null,
   "metadata": {},
   "outputs": [],
   "source": [
    "# Instantiate evaluator with model_name\n",
    "# Set do_generate to True if you are going to load the specific language model during evaluator initialization.\n",
    "from src import evaluator as Evaluator\n",
    "evaluator = Evaluator.DistributeWiseEvaluator(model_name_or_path='bigcode/starcoder2-7b', do_generate=True)"
   ]
  },
  {
   "cell_type": "code",
   "execution_count": null,
   "metadata": {},
   "outputs": [],
   "source": [
    "# Generate code samples\n",
    "# evaluator.generate(num_samples_per_task=1)\n",
    "\n",
    "# Evaluate code samples using the Mercury benchmark\n",
    "evaluator.evaluate(num_samples_per_task=1)"
   ]
  },
  {
   "cell_type": "code",
   "execution_count": null,
   "metadata": {},
   "outputs": [],
   "source": [
    "a = \"\"\"\\nclass Solution(object):\\n    def spiralOrder(self, matrix):\\n        \\\"\\\"\\\"\\n        :type matrix: List[List[int]]\\n        :rtype: List[int]\\n        \\\"\\\"\\\"\\n        \\n        if not matrix:\\n            return []\\n        \\n        m = len(matrix)\\n        n = len(matrix[0])\\n        res = []\\n        top = 0\\n        bottom = m - 1\\n        left = 0\\n        right = n - 1\\n        \\n        while top <= bottom and left <= right:\\n            for i in range(left, right + 1):\\n                res.append(matrix[top][i])\\n            top += 1\\n            for i in range(top, bottom + 1):\\n                res.append(matrix[i][right])\\n            right -= 1\\n            if top <= bottom:\\n                for i in range(right, left - 1, -1):\\n                    res.append(matrix[bottom][i])\\n                bottom -= 1\\n            if left <= right:\\n                for i in range(bottom, top - 1, -1):\\n                    res.append(matrix[i][left])\\n                left += 1\\n        return res\"\"\""
   ]
  },
  {
   "cell_type": "code",
   "execution_count": null,
   "metadata": {},
   "outputs": [],
   "source": [
    "a = \"```Given an m x n matrix, return all elements of the matrix in spiral order.\\n\\n\\u00a0\\nExample 1:\\n\\nInput: matrix = [[1,2,3],[4,5,6],[7,8,9]]\\nOutput: [1,2,3,6,9,8,7,4,5]\\n\\n\\nExample 2:\\n\\nInput: matrix = [[1,2,3,4],[5,6,7,8],[9,10,11,12]]\\nOutput: [1,2,3,4,8,12,11,10,9,5,6,7]\\n\\n\\n\\u00a0\\nConstraints:\\n\\n\\n\\tm == matrix.length\\n\\tn == matrix[i].length\\n\\t1 <= m, n <= 10\\n\\t-100 <= matrix[i][j] <= 100\\n\\n\\n```\\nclass Solution(object):\\n    def spiralOrder(self, matrix):\\n        \\\"\\\"\\\"\\n        :type matrix: List[List[int]]\\n        :rtype: List[int]\\n        \\\"\\\"\\\"\\n        \\n        if not matrix:\\n            return []\\n        \\n        m = len(matrix)\\n        n = len(matrix[0])\\n        res = []\\n        i = 0\\n        j = 0\\n        di = 0\\n        dj = 1\\n        for _ in range(m*n):\\n            res.append(matrix[i][j])\\n            if i+di >= m or i+di < 0 or j+dj >= n or j+dj < 0:\\n                break\\n            if matrix[i+di][j+dj] == 0:\\n                break\\n            matrix[i+di][j+dj] = 0\\n            i += di\\n            j += dj\\n            if di == 0:\\n                di = 1\\n                dj = 0\\n            elif di == 1:\\n                di = 0\\n                dj = -1\\n            elif di == -1:\\n                di = 0\\n                dj = 1\\n            elif di == 0:\\n                di = -1\\n                dj = 0\\n        return res\""
   ]
  },
  {
   "cell_type": "code",
   "execution_count": null,
   "metadata": {},
   "outputs": [],
   "source": [
    "print(a)"
   ]
  },
  {
   "cell_type": "code",
   "execution_count": null,
   "metadata": {},
   "outputs": [],
   "source": [
    "import itertools\n",
    "import numpy as np"
   ]
  },
  {
   "cell_type": "code",
   "execution_count": null,
   "metadata": {},
   "outputs": [],
   "source": [
    "def estimate_pass_at_k(num_samples, num_correct, k):\n",
    "    \"\"\"Estimates pass@k of each problem and returns them in an array.\"\"\"\n",
    "\n",
    "    def estimator(n: int, c: int, k: int) -> float:\n",
    "        \"\"\"Calculates 1 - comb(n - c, k) / comb(n, k).\"\"\"\n",
    "        if n - c < k:\n",
    "            return 1.0\n",
    "        return 1.0 - np.prod(1.0 - k / np.arange(n - c + 1, n + 1))\n",
    "\n",
    "    if isinstance(num_samples, int):\n",
    "        num_samples_it = itertools.repeat(num_samples, len(num_correct))\n",
    "    else:\n",
    "        assert len(num_samples) == len(num_correct)\n",
    "        num_samples_it = iter(num_samples)\n",
    "\n",
    "    return np.array([estimator(float(n), float(c), k) for n, c in zip(num_samples_it, num_correct)])"
   ]
  },
  {
   "cell_type": "code",
   "execution_count": null,
   "metadata": {},
   "outputs": [],
   "source": [
    "import math"
   ]
  },
  {
   "cell_type": "code",
   "execution_count": null,
   "metadata": {},
   "outputs": [],
   "source": [
    "def cf(n, k):\n",
    "    return math.gamma(n+1) / (math.gamma(k+1) * (math.gamma(n-k+1)))\n",
    "\n",
    "def e1(n ,c, k):\n",
    "    if n - c < k:\n",
    "        return 1.0\n",
    "    return 1 - cf(n-c, k) / cf(n, k)"
   ]
  },
  {
   "cell_type": "code",
   "execution_count": null,
   "metadata": {},
   "outputs": [],
   "source": [
    "def e2(n: int, c: int, k: int) -> float:\n",
    "    \"\"\"Calculates 1 - comb(n - c, k) / comb(n, k).\"\"\"\n",
    "    if n - c < k:\n",
    "        return 1.0\n",
    "    return 1.0 - np.prod(1.0 - k / np.arange(n - c + 1, n + 1))"
   ]
  },
  {
   "cell_type": "code",
   "execution_count": null,
   "metadata": {},
   "outputs": [],
   "source": [
    "e1(5, 0.1, 1)"
   ]
  },
  {
   "cell_type": "code",
   "execution_count": null,
   "metadata": {},
   "outputs": [],
   "source": [
    "e2(5, 4, 1)"
   ]
  },
  {
   "cell_type": "code",
   "execution_count": null,
   "metadata": {},
   "outputs": [],
   "source": [
    "estimate_pass_at_k([5,5,5], [3,2,5], 1)"
   ]
  },
  {
   "cell_type": "code",
   "execution_count": null,
   "metadata": {},
   "outputs": [],
   "source": [
    "ks = [1,3,5]"
   ]
  },
  {
   "cell_type": "code",
   "execution_count": null,
   "metadata": {},
   "outputs": [],
   "source": [
    "if not isinstance(ks, (list, tuple)):\n",
    "    ks = [ks]"
   ]
  },
  {
   "cell_type": "code",
   "execution_count": null,
   "metadata": {},
   "outputs": [],
   "source": [
    "{f\"pass@{k}\": estimate_pass_at_k([5,5,5], [3,2,5], 1).mean() for k in ks if ([5,5,5] >= k).all()}"
   ]
  },
  {
   "cell_type": "code",
   "execution_count": null,
   "metadata": {},
   "outputs": [],
   "source": [
    "total = np.array([5,5,5])"
   ]
  },
  {
   "cell_type": "code",
   "execution_count": null,
   "metadata": {},
   "outputs": [],
   "source": [
    "a = {1:1}\n",
    "b = {2:2}"
   ]
  },
  {
   "cell_type": "code",
   "execution_count": null,
   "metadata": {},
   "outputs": [],
   "source": [
    "import os\n",
    "import sys\n",
    "import pynvml as N\n",
    "\n",
    "MB = 1024 * 1024\n",
    "\n",
    "def get_usage(device_index, my_pid):\n",
    "    N.nvmlInit()\n",
    "\n",
    "    handle = N.nvmlDeviceGetHandleByIndex(device_index)\n",
    "\n",
    "    usage = [nv_process.usedGpuMemory // MB for nv_process in\n",
    "             N.nvmlDeviceGetComputeRunningProcesses(handle) + N.nvmlDeviceGetGraphicsRunningProcesses(handle) if\n",
    "             nv_process.pid == my_pid]\n",
    "\n",
    "    if len(usage) == 1:\n",
    "        usage = usage[0]\n",
    "    else:\n",
    "        raise KeyError(\"PID not found\")\n",
    "\n",
    "    return usage"
   ]
  },
  {
   "cell_type": "code",
   "execution_count": 1,
   "metadata": {},
   "outputs": [],
   "source": [
    "import torch"
   ]
  },
  {
   "cell_type": "code",
   "execution_count": 2,
   "metadata": {},
   "outputs": [
    {
     "data": {
      "text/plain": [
       "'2.2.2'"
      ]
     },
     "execution_count": 2,
     "metadata": {},
     "output_type": "execute_result"
    }
   ],
   "source": [
    "torch.__version__"
   ]
  },
  {
   "cell_type": "code",
   "execution_count": 3,
   "metadata": {},
   "outputs": [],
   "source": [
    "from transformers import AutoModelForCausalLM, AutoTokenizer, BitsAndBytesConfig"
   ]
  },
  {
   "cell_type": "code",
   "execution_count": 8,
   "metadata": {},
   "outputs": [],
   "source": [
    "from datasets import load_dataset\n",
    "\n",
    "dataset = load_dataset(\"Elfsong/Mercury\")"
   ]
  },
  {
   "cell_type": "code",
   "execution_count": 4,
   "metadata": {},
   "outputs": [],
   "source": [
    "bnb_config = BitsAndBytesConfig(\n",
    "    load_in_4bit=True,\n",
    "    bnb_4bit_quant_type=\"nf4\",\n",
    "    bnb_4bit_compute_dtype=torch.bfloat16,\n",
    ")"
   ]
  },
  {
   "cell_type": "code",
   "execution_count": 5,
   "metadata": {},
   "outputs": [
    {
     "data": {
      "application/vnd.jupyter.widget-view+json": {
       "model_id": "6964aa2a6d464bdd8192bc09e9e12e79",
       "version_major": 2,
       "version_minor": 0
      },
      "text/plain": [
       "Loading checkpoint shards:   0%|          | 0/3 [00:00<?, ?it/s]"
      ]
     },
     "metadata": {},
     "output_type": "display_data"
    }
   ],
   "source": [
    "model = AutoModelForCausalLM.from_pretrained(\n",
    "    # \"deepseek-ai/deepseek-coder-6.7b-instruct\",\n",
    "    # \"./checkpoints/checkpoint-200\",\n",
    "    \"./checkpoints\",\n",
    "    # quantization_config=bnb_config,\n",
    "    device_map=\"cuda:0\",\n",
    "    trust_remote_code=True,\n",
    "    low_cpu_mem_usage=True,\n",
    ")"
   ]
  },
  {
   "cell_type": "code",
   "execution_count": 6,
   "metadata": {},
   "outputs": [],
   "source": [
    "tokenizer = AutoTokenizer.from_pretrained(\"./checkpoints\", legacy=False)"
   ]
  },
  {
   "cell_type": "code",
   "execution_count": 9,
   "metadata": {},
   "outputs": [],
   "source": [
    "instance = dataset['eval'][1]"
   ]
  },
  {
   "cell_type": "code",
   "execution_count": 10,
   "metadata": {},
   "outputs": [
    {
     "data": {
      "text/plain": [
       "'summaryRanges'"
      ]
     },
     "execution_count": 10,
     "metadata": {},
     "output_type": "execute_result"
    }
   ],
   "source": [
    "instance[\"entry_point\"]"
   ]
  },
  {
   "cell_type": "code",
   "execution_count": 11,
   "metadata": {},
   "outputs": [
    {
     "data": {
      "text/plain": [
       "'class Solution:\\n    def summaryRanges(self, nums: List[int]) -> List[str]:\\n        result = []\\n        for num in nums:\\n            if not result or num > result[-1][-1] + 1:\\n                result.append([num, num])\\n            else:\\n                result[-1][-1] = num\\n\\n        return [f\"{start}->{end}\" if start != end else str(start) for start, end in result]'"
      ]
     },
     "execution_count": 11,
     "metadata": {},
     "output_type": "execute_result"
    }
   ],
   "source": [
    "instance[\"solutions\"][0][\"solution\"]"
   ]
  },
  {
   "cell_type": "code",
   "execution_count": 12,
   "metadata": {},
   "outputs": [],
   "source": [
    "input_text = f'{instance[\"pretty_content\"][0]}\\n{instance[\"prompt\"]}'\n",
    "inputs = tokenizer(input_text, return_tensors=\"pt\").to(\"cuda:0\")\n",
    "outputs = model.generate(**inputs, max_length=1024, pad_token_id=tokenizer.eos_token_id)"
   ]
  },
  {
   "cell_type": "code",
   "execution_count": 13,
   "metadata": {},
   "outputs": [
    {
     "name": "stdout",
     "output_type": "stream",
     "text": [
      "         if len(nums) == 0:\n",
      "#             return []\n",
      "        \n",
      "#         if len(nums) == 1:\n",
      "#             return [str(nums[0])]\n",
      "        \n",
      "#         res = []\n",
      "#         start = nums[0]\n",
      "#         end = nums[0]\n",
      "        \n",
      "#         for i in range(1, len(nums)):\n",
      "#             if nums[i] == end + 1:\n",
      "#                 end = nums[i]\n",
      "#             else:\n",
      "#                 if start == end:\n",
      "#                     res.append(str(start))\n",
      "#                 else:\n",
      "#                     res.append(str(start) + \"->\" + str(end))\n",
      "#                 start = nums[i]\n",
      "#                 end = nums[i]\n",
      "        \n",
      "#         if start == end:\n",
      "#             res.append(str(start))\n",
      "#         else:\n",
      "#             res.append(str(start) + \"->\" + str(end))\n",
      "        \n",
      "#         return res\n",
      "        \n",
      "        if len(nums) == 0:\n",
      "            return []\n",
      "        \n",
      "        if len(nums) == 1:\n",
      "            return [str(nums[0])]\n",
      "        \n",
      "        res = []\n",
      "        start = nums[0]\n",
      "        end = nums[0]\n",
      "        \n",
      "        for i in range(1, len(nums)):\n",
      "            if nums[i] == end + 1:\n",
      "                end = nums[i]\n",
      "            else:\n",
      "                if start == end:\n",
      "                    res.append(str(start))\n",
      "                else:\n",
      "                    res.append(str(start) + \"->\" + str(end))\n",
      "                start = nums[i]\n",
      "                end = nums[i]\n",
      "        \n",
      "        if start == end:\n",
      "            res.append(str(start))\n",
      "        else:\n",
      "            res.append(str(start) + \"->\" + str(end))\n",
      "        \n",
      "        return res\n",
      "        \n",
      "#         if len(nums) == 0:\n",
      "#             return []\n",
      "        \n",
      "#         if len(nums) == 1:\n",
      "#             return [str(nums[0])]\n",
      "        \n",
      "#         res = []\n",
      "#         start = nums[0]\n",
      "#         end = nums[0]\n",
      "        \n",
      "#         for i in range(1, len(nums)):\n",
      "#             if nums[i] == end + 1:\n",
      "#                 end = nums[i]\n",
      "#             else:\n",
      "#                 if start == end:\n",
      "#                     res.append(str(start))\n",
      "#                 else:\n",
      "#                     res.append(str(start) + \"->\" + str(end))\n",
      "#                 start = nums[i]\n",
      "#                 end = nums[i]\n",
      "        \n",
      "#         if start == end:\n",
      "#             res.append(str(start))\n",
      "#         else:\n",
      "#             res.append(str(start) + \"->\" + str(end))\n",
      "        \n",
      "#         return res\n",
      "        \n",
      "#         if len(nums) == 0:\n",
      "#             return []\n"
     ]
    }
   ],
   "source": [
    "print(tokenizer.decode(outputs[0], skip_special_tokens=True)[len(input_text):])"
   ]
  },
  {
   "cell_type": "code",
   "execution_count": 1,
   "metadata": {},
   "outputs": [],
   "source": [
    "from datasets import load_dataset\n",
    "\n",
    "dataset = load_dataset(\"Elfsong/Mercury\")"
   ]
  },
  {
   "cell_type": "code",
   "execution_count": 2,
   "metadata": {},
   "outputs": [
    {
     "data": {
      "text/plain": [
       "{'slug_name': 'largest-palindromic-number',\n",
       " 'meta_info': {'data': {'question': {'categoryTitle': 'Algorithms',\n",
       "    'content': '<p>You are given a string <code>num</code> consisting of digits only.</p>\\n\\n<p>Return <em>the <strong>largest palindromic</strong> integer (in the form of a string) that can be formed using digits taken from </em><code>num</code>. It should not contain <strong>leading zeroes</strong>.</p>\\n\\n<p><strong>Notes:</strong></p>\\n\\n<ul>\\n\\t<li>You do <strong>not</strong> need to use all the digits of <code>num</code>, but you must use <strong>at least</strong> one digit.</li>\\n\\t<li>The digits can be reordered.</li>\\n</ul>\\n\\n<p>&nbsp;</p>\\n<p><strong class=\"example\">Example 1:</strong></p>\\n\\n<pre>\\n<strong>Input:</strong> num = &quot;444947137&quot;\\n<strong>Output:</strong> &quot;7449447&quot;\\n<strong>Explanation:</strong> \\nUse the digits &quot;4449477&quot; from &quot;<u><strong>44494</strong></u><u><strong>7</strong></u>13<u><strong>7</strong></u>&quot; to form the palindromic integer &quot;7449447&quot;.\\nIt can be shown that &quot;7449447&quot; is the largest palindromic integer that can be formed.\\n</pre>\\n\\n<p><strong class=\"example\">Example 2:</strong></p>\\n\\n<pre>\\n<strong>Input:</strong> num = &quot;00009&quot;\\n<strong>Output:</strong> &quot;9&quot;\\n<strong>Explanation:</strong> \\nIt can be shown that &quot;9&quot; is the largest palindromic integer that can be formed.\\nNote that the integer returned should not contain leading zeroes.\\n</pre>\\n\\n<p>&nbsp;</p>\\n<p><strong>Constraints:</strong></p>\\n\\n<ul>\\n\\t<li><code>1 &lt;= num.length &lt;= 10<sup>5</sup></code></li>\\n\\t<li><code>num</code> consists of digits.</li>\\n</ul>\\n',\n",
       "    'difficulty': 'Medium',\n",
       "    'questionFrontendId': '2384',\n",
       "    'questionId': '2475',\n",
       "    'questionTitle': 'Largest Palindromic Number',\n",
       "    'questionTitleSlug': 'largest-palindromic-number',\n",
       "    'similarQuestions': '[{\"title\": \"Longest Palindrome\", \"titleSlug\": \"longest-palindrome\", \"difficulty\": \"Easy\", \"translatedTitle\": null}]',\n",
       "    'stats': '{\"totalAccepted\": \"24.7K\", \"totalSubmission\": \"76.7K\", \"totalAcceptedRaw\": 24693, \"totalSubmissionRaw\": 76700, \"acRate\": \"32.2%\"}',\n",
       "    'topicTags': [{'name': 'Hash Table', 'slug': 'hash-table'},\n",
       "     {'name': 'String', 'slug': 'string'},\n",
       "     {'name': 'Greedy', 'slug': 'greedy'}]}}},\n",
       " 'id': '2384',\n",
       " 'difficulty': 'Medium',\n",
       " 'pretty_content': [],\n",
       " 'solutions': [{'hash': 9169702491962368754,\n",
       "   'runtime': '76ms',\n",
       "   'solution': 'class Solution(object):\\n    def largestPalindromic(self, num):\\n        \"\"\"\\n        :type num: str\\n        :rtype: str\\n        \"\"\"\\n        dictionary = {}\\n        for n in num:\\n            if n in dictionary:\\n                dictionary[n] += 1 \\n            else:\\n                dictionary[n] = 1 \\n        final = \\'\\'\\n        remain =[]\\n        sorted_k = sorted(dictionary.keys(),reverse=True)\\n        for k in sorted_k: # 9 8 7 3\\n            if dictionary[k] < 2:\\n                remain.append(int(k))\\n            elif dictionary[k] %2 == 0:\\n                temp = k * dictionary[k]\\n                idx = len(final)//2\\n                final = final[:idx] + temp + final[idx:]\\n            else:\\n                temp = k * (dictionary[k]-1)\\n                idx = len(final)//2\\n                final = final[:idx] + temp + final[idx:]\\n                remain.append(int(k))\\n        if len(remain)>0:\\n            idx = len(final)//2\\n            final = final[:idx] + str(max(remain)) + final[idx:]\\n        final = final.strip(\\'0\\')\\n        return final if final else \\'0\\''},\n",
       "  {'hash': -8279518746453973992,\n",
       "   'runtime': '134ms',\n",
       "   'solution': 'from collections import Counter\\nclass Solution:\\n    def largestPalindromic(self, num):\\n        c = Counter(num)\\n        res_lst = []\\n        largest_single_odd = -1\\n        for k, v in c.items():\\n            if v%2 == 0:\\n                res_lst.extend([k]*(v//2))\\n            else:\\n                if v > 1:\\n                    res_lst.extend([k]*((v-1)//2))\\n                largest_single_odd = max(int(k), largest_single_odd)\\n            \\n        res_lst.sort(reverse=True)\\n        if len(res_lst)==0 or res_lst[0] == \"0\":\\n            if largest_single_odd != -1:\\n                return str(largest_single_odd)\\n            else:\\n                return \"0\"\\n        else:\\n            if largest_single_odd != -1:\\n                res_lst = res_lst + [str(largest_single_odd)] + res_lst[::-1]\\n            else:\\n                res_lst = res_lst + res_lst[::-1]\\n            return \"\".join(res_lst)'},\n",
       "  {'hash': -9130152379721640615,\n",
       "   'runtime': '539ms',\n",
       "   'solution': 'class Solution:\\n    def largestPalindromic(self, num):\\n        digit_freq = [0] * 10\\n        res = \"\"\\n        for n in num:\\n            digit_freq[int(n)] += 1\\n            \\n        for i in range(10):\\n            while(digit_freq[i] >= 2):\\n                res += str(i)\\n                res = str(i) + res\\n                digit_freq[i] -= 2\\n        for i in reversed(range(10)):\\n            if digit_freq[i] > 0:\\n                mid = int(len(res)/2)\\n                res = res[:mid] + str(i) + res[mid:]\\n                break\\n            \\n        res = res.lstrip(\\'0\\').rstrip(\\'0\\')\\n        if res == \"\":\\n            return \"0\"\\n        else:\\n            return res'},\n",
       "  {'hash': -7355713895541192163,\n",
       "   'runtime': '232ms',\n",
       "   'solution': 'class Solution(object):\\n    def largestPalindromic(self, num):\\n        \"\"\"\\n        :type num: str\\n        :rtype: str\\n        \"\"\"\\n        med=False\\n        res=[]\\n        temp = [0]*10\\n        s=\\'0\\'\\n        for i in num:\\n            temp[int(i)]+=1\\n        for i in range(9,-1,-1):\\n            if not med and temp[i]%2:\\n                s = str(i)\\n                med=True\\n            for x in range(temp[i]//2):\\n                res.append(str(i))\\n        a=len(res)\\n        if med:\\n            res.append(s)\\n        for i in range(a-1,-1,-1):\\n            res.append(res[i])\\n        if res[0]==\\'0\\':\\n            return s\\n        else:\\n            return \\'\\'.join(res)\\n            '},\n",
       "  {'hash': -4176830310848603198,\n",
       "   'runtime': '98ms',\n",
       "   'solution': \"class Solution(object):\\n    def largestPalindromic(self, num):\\n        count = Counter(num)\\n        res = ''.join(count[i] // 2 * i for i in '9876543210').lstrip('0')\\n        mid = max(count[i] % 2 * i for i in count)\\n        return (res + mid + res[::-1]) or '0'\\n        \"},\n",
       "  {'hash': 1812943772845676706,\n",
       "   'runtime': '69ms',\n",
       "   'solution': 'class Solution(object):\\n    def largestPalindromic(self, num):\\n        \"\"\"\\n        :type num: str\\n        :rtype: str\\n        \"\"\"\\n        count = {}\\n        alphabet = \\'0123456789\\'\\n        \\n\\n        # for a in alphabet:\\n        #     count[a] = 0\\n            \\n\\n        \\n\\n        for w in num:\\n            if w in count:\\n                count[w]+=1\\n            else:\\n                count[w] = 1\\n        \\n        if len(count)==1 and count.keys()[0]==\\'0\\':\\n            return \\'0\\'\\n\\n        ans = \\'M\\'\\n        middle=\\'\\'\\n        # print(count)\\n        for w in alphabet:\\n            if w not in count:\\n                continue\\n            c = count[w]\\n            if c>1 and c!=0:\\n                if w==\\'0\\':\\n                    w=\\' \\'\\n                ans = ((c//2)*w)+ans+((c//2)*w)\\n                # print(\\'sss\\', ans, w)\\n            if c%2!=0 and c!=0:\\n                middle = w\\n                # ans = ans.replace(\\'M\\', w)\\n        \\n        if \\'M\\' in ans:\\n            ans = ans.replace(\\'M\\', middle)\\n\\n\\n        ans = ans.strip().replace(\\' \\', \\'0\\')\\n\\n\\n\\n        print(ans)\\n\\n\\n        return ans\\n        \\n\\n        # num = 00985\\n\\n        # {0:2, 6:1, 7:2}\\n\\n        # 70607\\n\\n        # {0:4}\\n\\n\\n        # word = \\'M\\'\\n        #  word = 4+word+4 =44\\n        #  \\'744M447\\'.replace(\\'M\\', \\'9\\')\\n\\n        #  \\'00000\\'\\n\\n\\n\\n\\n        #  9004009\\n\\n\\n\\n\\n        # 744447'},\n",
       "  {'hash': 3529629877705487259,\n",
       "   'runtime': '122ms',\n",
       "   'solution': 'class Solution(object):\\n    def largestPalindromic(self, num):\\n        \"\"\"\\n        :type num: str\\n        :rtype: str\\n        \"\"\"\\n        counts = Counter(str(num))\\n        single_digit = \\'\\'\\n        ans = []\\n\\n        for n in \\'9876543210\\':\\n            count = counts[n]\\n            while count > 1:\\n                if n == \\'0\\' and not ans:\\n                    break\\n                ans.append(n)\\n                count -= 2\\n\\n            if not single_digit and count:\\n                single_digit = n\\n\\n        if single_digit:\\n            ans = ans + [single_digit] + ans[::-1]\\n        else:\\n            ans.extend(ans[::-1])\\n\\n        return \\'\\'.join(ans)'},\n",
       "  {'hash': -3990144629156997891,\n",
       "   'runtime': '237ms',\n",
       "   'solution': \"class Solution(object):\\n    def largestPalindromic(self, num):\\n        num_count = [0]*10\\n        for n in num:\\n            num_count[int(n)] += 1\\n        \\n        if max(num_count[1:]) == 0:\\n            return '0'\\n        if max(num_count[1:]) == 1:\\n            return max(num)\\n        \\n        l = []\\n        n = 9\\n        while n > -1:\\n            if num_count[n] > 1:\\n                l.append(n)\\n                num_count[n] -= 2\\n                n += 1\\n            n -= 1\\n\\n        middle = False\\n        n = 9\\n        while not middle and n > -1:\\n            if num_count[n] == 1:\\n                l.append(n)\\n                middle = True\\n            n -= 1\\n        \\n        if middle:\\n            l = l+l[::-1][1:]\\n        else:\\n            l = l+l[::-1]\\n\\n        s = ''.join(map(str,l))\\n\\n        return s\"},\n",
       "  {'hash': 2562835721328626540,\n",
       "   'runtime': '211ms',\n",
       "   'solution': 'class Solution(object):\\n    def largestPalindromic(self, num):\\n        \"\"\"\\n        :type num: str\\n        :rtype: str\\n        \"\"\"\\n        med=False\\n        res=\"\"\\n        temp = [0]*10\\n        s=\\'0\\'\\n        for i in num:\\n            temp[int(i)]+=1\\n        for i in range(9,-1,-1):\\n            if not med and temp[i]%2:\\n                s = str(i)\\n                med=True\\n            for x in range(temp[i]//2):\\n                res+=str(i)\\n        c = res[::-1]\\n        if med:\\n            res+=s\\n        res+=c\\n        if res[0]==\\'0\\':\\n            return s\\n        else:\\n            return res\\n\\n        '},\n",
       "  {'hash': -5815329245775335484,\n",
       "   'runtime': '57ms',\n",
       "   'solution': 'class Solution(object):\\n    def largestPalindromic(self, num):\\n        \"\"\"\\n        :type num: str\\n        :rtype: str\\n        \"\"\"\\n        digitCount = {}\\n        for c in num:\\n            if (c in digitCount):\\n                digitCount[c] += 1\\n            else:\\n                digitCount[c] = 1\\n        result = \"\"\\n        for d in \"987654321\":\\n            if (d in digitCount and digitCount[d] > 1):\\n                result += (d* (digitCount[d]//2))\\n                digitCount[d] %= 2\\n        if (\"0\" in digitCount and digitCount[\"0\"] > 1 and result != \"\"):\\n            result += \"0\"* (digitCount[\"0\"]//2)\\n            digitCount[\"0\"] %= 2\\n        mid = \"\"\\n        for d in \"9876543210\":\\n            if (d in digitCount and digitCount[d] >= 1):\\n                mid = d\\n                break\\n        return result + mid + result[::-1]\\n\\n\\n\\n        '},\n",
       "  {'hash': 8322629529791411473,\n",
       "   'runtime': '183ms',\n",
       "   'solution': 'from collections import defaultdict\\nclass Solution(object):\\n    def largestPalindromic(self, num):\\n        \"\"\"\\n        :type num: str\\n        :rtype: str\\n        \"\"\"\\n        dt = [0] * 10\\n        for d in num:\\n            dt[int(d)] += 1\\n        ans = \"\"\\n        for i in range(9, 0, -1):\\n            r = dt[i] // 2\\n            ans += str(i) * r\\n        s = \"\"\\n        if ans != \"\":\\n            ans += \"0\" * (dt[0] // 2)\\n            dt[0] = dt[0] % 2\\n        for i in range(9, 0, -1):\\n            if dt[i] % 2 == 1:\\n                s += str(i)\\n                break\\n        if dt[0] >= 1 and s == \"\":\\n            s = \"0\"\\n        return ans + s + ans[::-1]'},\n",
       "  {'hash': -5761096156408999920,\n",
       "   'runtime': '116ms',\n",
       "   'solution': 'from collections import Counter\\n\\nclass Solution:\\n    def largestPalindromic(self, S):\\n        digit_counts = Counter(S)\\n        palindrome_digits = []\\n        largest_single_odd = -1\\n\\n        for num, count in digit_counts.items():\\n            if count % 2 == 0:\\n                palindrome_digits.extend([num] * (count // 2))\\n            else:\\n \\n                if count > 1:\\n                    palindrome_digits.extend([num] * ((count - 1) // 2))\\n                largest_single_odd = max(int(num), largest_single_odd)\\n\\n        palindrome_digits.sort(reverse=True)\\n\\n        if len(palindrome_digits) == 0 or palindrome_digits[0] == \"0\":\\n        \\n            return str(largest_single_odd) if largest_single_odd != -1 else \"0\"\\n        else:\\n            if largest_single_odd != -1:\\n                palindrome_digits = palindrome_digits + [str(largest_single_odd)] + palindrome_digits[::-1]\\n            else:\\n                palindrome_digits = palindrome_digits + palindrome_digits[::-1]\\n            return \"\".join(palindrome_digits)'},\n",
       "  {'hash': -8615224430286401055,\n",
       "   'runtime': '650ms',\n",
       "   'solution': 'class Solution(object):\\n    def largestPalindromic(self, num):\\n        \"\"\"\\n        :type num: str\\n        :rtype: str\\n        \"\"\"\\n        ans = \"\"\\n        mid = False\\n        pootis = \"0\"\\n        freq = Counter(num)\\n        freq = freq.items()\\n        freq.sort(reverse=True)\\n        for x,y in freq:\\n            if not mid and y%2:\\n                mid = True\\n                pootis = x\\n            for _ in range(y//2):\\n                ans+=x\\n        temp = ans[::-1]\\n        if mid:\\n            ans+=pootis\\n        if ans[0]==\"0\":\\n            return pootis\\n        return ans+temp\\n\\n        '}],\n",
       " 'prompt': '\\n[\\x1b[33m2384\\x1b[0m] \\x1b[1;4mLargest Palindromic Number\\x1b[0m \\x1b[2mis on the run...\\x1b[0m\\n\\n\\nclass Solution(object):\\n    def largestPalindromic(self, num):\\n        \"\"\"\\n        :type num: str\\n        :rtype: str\\n        \"\"\"\\n        \\n',\n",
       " 'generator_code': 'None',\n",
       " 'convert_online': 'None',\n",
       " 'convert_offline': 'None',\n",
       " 'evaluate_offline': 'None',\n",
       " 'entry_point': 'None',\n",
       " 'test_cases': 'None'}"
      ]
     },
     "execution_count": 2,
     "metadata": {},
     "output_type": "execute_result"
    }
   ],
   "source": [
    "dataset['train'][528]"
   ]
  },
  {
   "cell_type": "code",
   "execution_count": null,
   "metadata": {},
   "outputs": [],
   "source": []
  }
 ],
 "metadata": {
  "kernelspec": {
   "display_name": "Python 3",
   "language": "python",
   "name": "python3"
  },
  "language_info": {
   "codemirror_mode": {
    "name": "ipython",
    "version": 3
   },
   "file_extension": ".py",
   "mimetype": "text/x-python",
   "name": "python",
   "nbconvert_exporter": "python",
   "pygments_lexer": "ipython3",
   "version": "3.9.19"
  }
 },
 "nbformat": 4,
 "nbformat_minor": 2
}
