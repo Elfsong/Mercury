{
 "cells": [
  {
   "cell_type": "code",
   "execution_count": 1,
   "metadata": {},
   "outputs": [],
   "source": [
    "from datasets import load_dataset\n",
    "\n",
    "# If the dataset is gated/private, make sure you have run huggingface-cli login\n",
    "ds = load_dataset(\"Elfsong/Caduceus_v6\")"
   ]
  },
  {
   "cell_type": "code",
   "execution_count": 2,
   "metadata": {},
   "outputs": [],
   "source": [
    "import json\n",
    "from tqdm import tqdm\n",
    "import sandbox as sandbox"
   ]
  },
  {
   "cell_type": "code",
   "execution_count": 5,
   "metadata": {},
   "outputs": [],
   "source": [
    "def test_1(index):\n",
    "    instance = ds['eval'][index]\n",
    "    sb = sandbox.Sandbox()\n",
    "    results = list()\n",
    "    \n",
    "    for index, solution in enumerate(instance['solutions']):        \n",
    "        sample = {\n",
    "            \"solution\": solution['solution'],\n",
    "            \"convert_offline\": instance['convert_offline'],\n",
    "            \"evaluate_offline\": instance['evaluate_offline'],\n",
    "            \"entry_point\": instance['entry_point'],\n",
    "            \"test_cases\": json.loads(instance['test_cases']),\n",
    "            \"solution_index\": index,\n",
    "            \"timeout\": 30\n",
    "        }\n",
    "    \n",
    "        results += [sb.run_sample(sample)]\n",
    "\n",
    "    return results"
   ]
  },
  {
   "cell_type": "code",
   "execution_count": 10,
   "metadata": {},
   "outputs": [],
   "source": [
    "def test_2(index):\n",
    "    instance = ds['eval'][index]\n",
    "    sb = sandbox.Sandbox()\n",
    "    samples = list()\n",
    "    \n",
    "    for index, solution in enumerate(instance['solutions']):        \n",
    "        samples += [{\n",
    "            \"solution\": solution['solution'],\n",
    "            \"convert_offline\": instance['convert_offline'],\n",
    "            \"evaluate_offline\": instance['evaluate_offline'],\n",
    "            \"entry_point\": instance['entry_point'],\n",
    "            \"test_cases\": json.loads(instance['test_cases']),\n",
    "            \"solution_index\": index,\n",
    "            \"timeout\": 30\n",
    "        }]\n",
    "    \n",
    "    results = sb.run_samples(samples)\n",
    "\n",
    "    return results"
   ]
  },
  {
   "cell_type": "code",
   "execution_count": 11,
   "metadata": {},
   "outputs": [
    {
     "name": "stderr",
     "output_type": "stream",
     "text": [
      "Reading futures: 100%|██████████| 14/14 [00:00<00:00, 54.24it/s]\n",
      "Reading futures: 100%|██████████| 15/15 [00:00<00:00, 55.48it/s]\n",
      "Reading futures: 100%|██████████| 30/30 [00:00<00:00, 40.97it/s]\n",
      "Reading futures: 100%|██████████| 20/20 [00:00<00:00, 56.84it/s]\n",
      "Reading futures: 100%|██████████| 20/20 [00:01<00:00, 13.41it/s]\n",
      "Reading futures: 100%|██████████| 22/22 [00:00<00:00, 59.10it/s]\n",
      "Reading futures: 100%|██████████| 24/24 [00:17<00:00,  1.39it/s]\n",
      "Reading futures: 100%|██████████| 16/16 [00:00<00:00, 61.23it/s]\n",
      "Reading futures: 100%|██████████| 21/21 [00:00<00:00, 58.42it/s]\n",
      "Reading futures: 100%|██████████| 25/25 [00:00<00:00, 59.54it/s]\n",
      "100%|██████████| 10/10 [00:22<00:00,  2.21s/it]\n"
     ]
    }
   ],
   "source": [
    "results = list()\n",
    "\n",
    "for i in tqdm(range(10)):\n",
    "    results += [test_2(i)]"
   ]
  },
  {
   "cell_type": "code",
   "execution_count": 13,
   "metadata": {},
   "outputs": [
    {
     "data": {
      "text/plain": [
       "([{'result': 'passed', 'runtime': 0.029373884201049805, 'index': 0},\n",
       "  {'result': 'passed', 'runtime': 0.032106876373291016, 'index': 1},\n",
       "  {'result': 'passed', 'runtime': 0.03248190879821777, 'index': 3},\n",
       "  {'result': 'passed', 'runtime': 0.03302502632141113, 'index': 2},\n",
       "  {'result': 'passed', 'runtime': 0.02482008934020996, 'index': 4},\n",
       "  {'result': 'passed', 'runtime': 0.026078224182128906, 'index': 7},\n",
       "  {'result': 'passed', 'runtime': 0.025940656661987305, 'index': 5},\n",
       "  {'result': 'passed', 'runtime': 0.03724503517150879, 'index': 6},\n",
       "  {'result': 'passed', 'runtime': 0.023476600646972656, 'index': 8},\n",
       "  {'result': 'passed', 'runtime': 0.026519298553466797, 'index': 10},\n",
       "  {'result': 'passed', 'runtime': 0.03209877014160156, 'index': 9},\n",
       "  {'result': 'passed', 'runtime': 0.025635480880737305, 'index': 11},\n",
       "  {'result': 'passed', 'runtime': 0.028206586837768555, 'index': 12},\n",
       "  {'result': 'passed', 'runtime': 0.01993584632873535, 'index': 13}],\n",
       " 14)"
      ]
     },
     "execution_count": 13,
     "metadata": {},
     "output_type": "execute_result"
    }
   ],
   "source": [
    "results[0]"
   ]
  },
  {
   "cell_type": "code",
   "execution_count": null,
   "metadata": {},
   "outputs": [],
   "source": []
  }
 ],
 "metadata": {
  "kernelspec": {
   "display_name": "Python 3",
   "language": "python",
   "name": "python3"
  },
  "language_info": {
   "codemirror_mode": {
    "name": "ipython",
    "version": 3
   },
   "file_extension": ".py",
   "mimetype": "text/x-python",
   "name": "python",
   "nbconvert_exporter": "python",
   "pygments_lexer": "ipython3",
   "version": "3.9.18"
  }
 },
 "nbformat": 4,
 "nbformat_minor": 2
}
